{
  "cells": [
    {
      "cell_type": "markdown",
      "metadata": {
        "id": "KvS9RMPFPKrv"
      },
      "source": [
        "## PyTorch Foundation"
      ]
    },
    {
      "cell_type": "code",
      "execution_count": null,
      "metadata": {
        "colab": {
          "base_uri": "https://localhost:8080/"
        },
        "id": "fHMKfXyodtzI",
        "outputId": "41a6561e-41a5-4790-84f4-67cf5d688113"
      },
      "outputs": [
        {
          "name": "stdout",
          "output_type": "stream",
          "text": [
            "Hello I am excited to work in Python\n"
          ]
        }
      ],
      "source": [
        "print(\"Hello I am excited to work in Python\")"
      ]
    },
    {
      "cell_type": "code",
      "execution_count": null,
      "metadata": {
        "colab": {
          "base_uri": "https://localhost:8080/"
        },
        "id": "g06NwKX1eCvK",
        "outputId": "3f925ecf-fd32-4afa-a85f-78d14b74180a"
      },
      "outputs": [
        {
          "name": "stdout",
          "output_type": "stream",
          "text": [
            "/bin/bash: line 1: nvidia-smi: command not found\n"
          ]
        }
      ],
      "source": [
        "!nvidia-smi"
      ]
    },
    {
      "cell_type": "markdown",
      "metadata": {
        "id": "h6X9U2pqeG7I"
      },
      "source": [
        "##00. PyTorch"
      ]
    },
    {
      "cell_type": "code",
      "execution_count": null,
      "metadata": {
        "colab": {
          "base_uri": "https://localhost:8080/"
        },
        "id": "CjH_r5JAeTiS",
        "outputId": "3f00b0ea-26b3-40b3-b774-647b8020c1b7"
      },
      "outputs": [
        {
          "name": "stdout",
          "output_type": "stream",
          "text": [
            "2.1.0+cu118\n"
          ]
        }
      ],
      "source": [
        "import torch\n",
        "import pandas as pd\n",
        "import numpy as np\n",
        "import matplotlib.pyplot as plt\n",
        "print(torch.__version__)"
      ]
    },
    {
      "cell_type": "markdown",
      "metadata": {
        "id": "l3nANzWMeluM"
      },
      "source": [
        "## Intro to tensor"
      ]
    },
    {
      "cell_type": "code",
      "execution_count": null,
      "metadata": {
        "colab": {
          "base_uri": "https://localhost:8080/"
        },
        "id": "ueXpZOGqf-2S",
        "outputId": "a8ebcf76-e86d-40ef-e633-06a162493784"
      },
      "outputs": [
        {
          "data": {
            "text/plain": [
              "tensor(7)"
            ]
          },
          "execution_count": 116,
          "metadata": {},
          "output_type": "execute_result"
        }
      ],
      "source": [
        "scalar = torch.tensor(7)\n",
        "scalar"
      ]
    },
    {
      "cell_type": "code",
      "execution_count": null,
      "metadata": {
        "colab": {
          "base_uri": "https://localhost:8080/"
        },
        "id": "vglZDMROgDoI",
        "outputId": "5b1e2e7d-f08d-4259-a539-d325c85e96de"
      },
      "outputs": [
        {
          "data": {
            "text/plain": [
              "0"
            ]
          },
          "execution_count": 117,
          "metadata": {},
          "output_type": "execute_result"
        }
      ],
      "source": [
        "scalar.ndim"
      ]
    },
    {
      "cell_type": "code",
      "execution_count": null,
      "metadata": {
        "colab": {
          "base_uri": "https://localhost:8080/"
        },
        "id": "lR37vmN1hScR",
        "outputId": "32e88a05-100c-4a43-ea35-63f07b08f728"
      },
      "outputs": [
        {
          "data": {
            "text/plain": [
              "7"
            ]
          },
          "execution_count": 118,
          "metadata": {},
          "output_type": "execute_result"
        }
      ],
      "source": [
        "scalar.item() # tensor back as python int"
      ]
    },
    {
      "cell_type": "code",
      "execution_count": null,
      "metadata": {
        "colab": {
          "base_uri": "https://localhost:8080/"
        },
        "id": "E_cLZjnKhT-f",
        "outputId": "df968164-c4df-4a85-b778-da37b8e47070"
      },
      "outputs": [
        {
          "data": {
            "text/plain": [
              "tensor([7, 7])"
            ]
          },
          "execution_count": 119,
          "metadata": {},
          "output_type": "execute_result"
        }
      ],
      "source": [
        "vector = torch.tensor([7,7])\n",
        "vector"
      ]
    },
    {
      "cell_type": "code",
      "execution_count": null,
      "metadata": {
        "colab": {
          "base_uri": "https://localhost:8080/"
        },
        "id": "mhbH_RaVhyTm",
        "outputId": "73aa10d0-5b3c-476f-b89d-5428c9877ccd"
      },
      "outputs": [
        {
          "data": {
            "text/plain": [
              "1"
            ]
          },
          "execution_count": 120,
          "metadata": {},
          "output_type": "execute_result"
        }
      ],
      "source": [
        "vector.ndim"
      ]
    },
    {
      "cell_type": "code",
      "execution_count": null,
      "metadata": {
        "colab": {
          "base_uri": "https://localhost:8080/"
        },
        "id": "LZqGo-VtiIia",
        "outputId": "0ad5cdf1-fb16-4ef4-c04f-15b068817e43"
      },
      "outputs": [
        {
          "data": {
            "text/plain": [
              "torch.Size([2])"
            ]
          },
          "execution_count": 121,
          "metadata": {},
          "output_type": "execute_result"
        }
      ],
      "source": [
        "vector.shape"
      ]
    },
    {
      "cell_type": "code",
      "execution_count": null,
      "metadata": {
        "colab": {
          "base_uri": "https://localhost:8080/"
        },
        "id": "bgjOK48liL-M",
        "outputId": "437bbb90-f6d7-44d7-a613-0f0d7cc6ab45"
      },
      "outputs": [
        {
          "data": {
            "text/plain": [
              "tensor([[ 7,  8],\n",
              "        [ 9, 10]])"
            ]
          },
          "execution_count": 122,
          "metadata": {},
          "output_type": "execute_result"
        }
      ],
      "source": [
        "#MATRIX\n",
        "MATRIX = torch.tensor([[7,8],\n",
        "                       [9,10]])\n",
        "MATRIX"
      ]
    },
    {
      "cell_type": "code",
      "execution_count": null,
      "metadata": {
        "colab": {
          "base_uri": "https://localhost:8080/"
        },
        "id": "U5Mdyx9Niaev",
        "outputId": "b1629230-315d-41e7-8cb3-ae860d4dfe0f"
      },
      "outputs": [
        {
          "data": {
            "text/plain": [
              "2"
            ]
          },
          "execution_count": 123,
          "metadata": {},
          "output_type": "execute_result"
        }
      ],
      "source": [
        "MATRIX.ndim"
      ]
    },
    {
      "cell_type": "code",
      "execution_count": null,
      "metadata": {
        "colab": {
          "base_uri": "https://localhost:8080/"
        },
        "id": "rGTi-BiRiewu",
        "outputId": "0d933e3e-c5e3-4128-abc8-40d7eade4bc1"
      },
      "outputs": [
        {
          "data": {
            "text/plain": [
              "tensor([ 9, 10])"
            ]
          },
          "execution_count": 124,
          "metadata": {},
          "output_type": "execute_result"
        }
      ],
      "source": [
        "MATRIX[1]"
      ]
    },
    {
      "cell_type": "code",
      "execution_count": null,
      "metadata": {
        "colab": {
          "base_uri": "https://localhost:8080/"
        },
        "id": "dLLvFBn0ige3",
        "outputId": "a8f4f8cf-01a9-446f-9706-411b486d68f8"
      },
      "outputs": [
        {
          "data": {
            "text/plain": [
              "tensor([7, 8])"
            ]
          },
          "execution_count": 125,
          "metadata": {},
          "output_type": "execute_result"
        }
      ],
      "source": [
        "MATRIX[0]"
      ]
    },
    {
      "cell_type": "code",
      "execution_count": null,
      "metadata": {
        "colab": {
          "base_uri": "https://localhost:8080/"
        },
        "id": "6rQK_svaiid7",
        "outputId": "62fdd911-04aa-42cc-efe2-f7dcebfddbaf"
      },
      "outputs": [
        {
          "data": {
            "text/plain": [
              "torch.Size([2, 2])"
            ]
          },
          "execution_count": 126,
          "metadata": {},
          "output_type": "execute_result"
        }
      ],
      "source": [
        "MATRIX.shape"
      ]
    },
    {
      "cell_type": "code",
      "execution_count": null,
      "metadata": {
        "colab": {
          "base_uri": "https://localhost:8080/"
        },
        "id": "QjDjFzVIij1u",
        "outputId": "8f7c6c2f-23e5-44bd-c69d-5aa75b3c5b26"
      },
      "outputs": [
        {
          "data": {
            "text/plain": [
              "tensor([[[1, 2, 3],\n",
              "         [3, 4, 5],\n",
              "         [2, 5, 6]]])"
            ]
          },
          "execution_count": 127,
          "metadata": {},
          "output_type": "execute_result"
        }
      ],
      "source": [
        "#Tensor\n",
        "TENSOR = torch.tensor([[[1,2,3],\n",
        "                        [3,4,5],\n",
        "                        [2,5,6]]])\n",
        "TENSOR"
      ]
    },
    {
      "cell_type": "code",
      "execution_count": null,
      "metadata": {
        "colab": {
          "base_uri": "https://localhost:8080/"
        },
        "id": "eeRCK-0Ji3UH",
        "outputId": "1397b603-2066-4c1b-edb6-732f32bc3757"
      },
      "outputs": [
        {
          "data": {
            "text/plain": [
              "torch.Size([1, 3, 3])"
            ]
          },
          "execution_count": 128,
          "metadata": {},
          "output_type": "execute_result"
        }
      ],
      "source": [
        "TENSOR.shape"
      ]
    },
    {
      "cell_type": "code",
      "execution_count": null,
      "metadata": {
        "colab": {
          "base_uri": "https://localhost:8080/"
        },
        "id": "_x7p1GRLi56t",
        "outputId": "31937d47-7095-4b04-eb3d-3c4ff73f8e74"
      },
      "outputs": [
        {
          "data": {
            "text/plain": [
              "3"
            ]
          },
          "execution_count": 129,
          "metadata": {},
          "output_type": "execute_result"
        }
      ],
      "source": [
        "TENSOR.ndim"
      ]
    },
    {
      "cell_type": "markdown",
      "metadata": {
        "id": "ylTAfIDwi7Nz"
      },
      "source": [
        "#RANDOM TENSOR"
      ]
    },
    {
      "cell_type": "code",
      "execution_count": null,
      "metadata": {
        "colab": {
          "base_uri": "https://localhost:8080/"
        },
        "id": "WT__XhG0j6o8",
        "outputId": "13959dc6-4d07-44db-b4af-2c5966d766e3"
      },
      "outputs": [
        {
          "data": {
            "text/plain": [
              "tensor([[[0.6445, 0.4372, 0.6380, 0.1344],\n",
              "         [0.3059, 0.1694, 0.3777, 0.6125],\n",
              "         [0.9109, 0.4155, 0.0692, 0.2180]]])"
            ]
          },
          "execution_count": 130,
          "metadata": {},
          "output_type": "execute_result"
        }
      ],
      "source": [
        "random_tensor = torch.rand(1,3,4)\n",
        "random_tensor"
      ]
    },
    {
      "cell_type": "code",
      "execution_count": null,
      "metadata": {
        "colab": {
          "base_uri": "https://localhost:8080/"
        },
        "id": "ajyn0VjckVGE",
        "outputId": "b97b59f7-53f6-4e8a-a8a4-16022ed0cd68"
      },
      "outputs": [
        {
          "data": {
            "text/plain": [
              "3"
            ]
          },
          "execution_count": 131,
          "metadata": {},
          "output_type": "execute_result"
        }
      ],
      "source": [
        "random_tensor.ndim"
      ]
    },
    {
      "cell_type": "code",
      "execution_count": null,
      "metadata": {
        "colab": {
          "base_uri": "https://localhost:8080/"
        },
        "id": "6rkPEQRXkm0H",
        "outputId": "3b4001ea-e215-4703-dbb6-1bb7810debea"
      },
      "outputs": [
        {
          "data": {
            "text/plain": [
              "(torch.Size([3, 224, 224]), 3)"
            ]
          },
          "execution_count": 132,
          "metadata": {},
          "output_type": "execute_result"
        }
      ],
      "source": [
        "random_image_size_tensor = torch.rand(size=(3, 224, 224))\n",
        "random_image_size_tensor.shape, random_image_size_tensor.ndim"
      ]
    },
    {
      "cell_type": "markdown",
      "metadata": {
        "id": "OG0wvt5Gkn7Z"
      },
      "source": [
        "## ZEROS AND ONE"
      ]
    },
    {
      "cell_type": "code",
      "execution_count": null,
      "metadata": {
        "colab": {
          "base_uri": "https://localhost:8080/"
        },
        "id": "NuZDkVbhmd9J",
        "outputId": "c509483e-3bcd-4692-f08b-f00013a20f14"
      },
      "outputs": [
        {
          "data": {
            "text/plain": [
              "tensor([[0., 0., 0., 0.],\n",
              "        [0., 0., 0., 0.],\n",
              "        [0., 0., 0., 0.]])"
            ]
          },
          "execution_count": 133,
          "metadata": {},
          "output_type": "execute_result"
        }
      ],
      "source": [
        "zeros=torch.zeros(size=(3,4))\n",
        "zeros"
      ]
    },
    {
      "cell_type": "code",
      "execution_count": null,
      "metadata": {
        "colab": {
          "base_uri": "https://localhost:8080/"
        },
        "id": "kKWavBYfmm0O",
        "outputId": "301fc60a-6bf7-42d6-9bb0-882fb8112fbb"
      },
      "outputs": [
        {
          "data": {
            "text/plain": [
              "tensor([[[0., 0., 0., 0.],\n",
              "         [0., 0., 0., 0.],\n",
              "         [0., 0., 0., 0.]]])"
            ]
          },
          "execution_count": 134,
          "metadata": {},
          "output_type": "execute_result"
        }
      ],
      "source": [
        "zeros*random_tensor"
      ]
    },
    {
      "cell_type": "code",
      "execution_count": null,
      "metadata": {
        "colab": {
          "base_uri": "https://localhost:8080/"
        },
        "id": "wUNYdyHkmqm9",
        "outputId": "ba2203c7-bec6-48df-cf5b-54512661faf4"
      },
      "outputs": [
        {
          "data": {
            "text/plain": [
              "tensor([[1., 1., 1., 1.],\n",
              "        [1., 1., 1., 1.],\n",
              "        [1., 1., 1., 1.]])"
            ]
          },
          "execution_count": 135,
          "metadata": {},
          "output_type": "execute_result"
        }
      ],
      "source": [
        "#tensor of onee\n",
        "ones = torch.ones(size=(3,4))\n",
        "ones"
      ]
    },
    {
      "cell_type": "code",
      "execution_count": null,
      "metadata": {
        "colab": {
          "base_uri": "https://localhost:8080/"
        },
        "id": "vJaEwUDQm3hw",
        "outputId": "a7a96915-aa85-48b2-f019-a33c836f2218"
      },
      "outputs": [
        {
          "data": {
            "text/plain": [
              "torch.float32"
            ]
          },
          "execution_count": 136,
          "metadata": {},
          "output_type": "execute_result"
        }
      ],
      "source": [
        "ones.dtype"
      ]
    },
    {
      "cell_type": "code",
      "execution_count": null,
      "metadata": {
        "colab": {
          "base_uri": "https://localhost:8080/"
        },
        "id": "bT0BMmwgm5kc",
        "outputId": "6d412756-8ec3-4c32-afd2-6c642fa94841"
      },
      "outputs": [
        {
          "data": {
            "text/plain": [
              "torch.float32"
            ]
          },
          "execution_count": 137,
          "metadata": {},
          "output_type": "execute_result"
        }
      ],
      "source": [
        "random_tensor.dtype"
      ]
    },
    {
      "cell_type": "code",
      "execution_count": null,
      "metadata": {
        "colab": {
          "base_uri": "https://localhost:8080/"
        },
        "id": "4051V-Fjm_rm",
        "outputId": "713305df-4697-48a5-b8c1-8ffc73f354e4"
      },
      "outputs": [
        {
          "data": {
            "text/plain": [
              "tensor([ 1,  2,  3,  4,  5,  6,  7,  8,  9, 10])"
            ]
          },
          "execution_count": 138,
          "metadata": {},
          "output_type": "execute_result"
        }
      ],
      "source": [
        "## creating a range of tensors and tensors like\n",
        "one_to_ten = torch.arange(start=1, end=11, step=1)\n",
        "one_to_ten"
      ]
    },
    {
      "cell_type": "code",
      "execution_count": null,
      "metadata": {
        "colab": {
          "base_uri": "https://localhost:8080/"
        },
        "id": "5Z4ed7EVnZhM",
        "outputId": "5c90071a-25b4-4e09-9b9c-0af57ee18ef6"
      },
      "outputs": [
        {
          "data": {
            "text/plain": [
              "tensor([  0,  77, 154, 231, 308, 385, 462, 539, 616, 693, 770, 847, 924])"
            ]
          },
          "execution_count": 139,
          "metadata": {},
          "output_type": "execute_result"
        }
      ],
      "source": [
        "x = torch.arange(start=0,end=1000, step=77)\n",
        "x"
      ]
    },
    {
      "cell_type": "code",
      "execution_count": null,
      "metadata": {
        "colab": {
          "base_uri": "https://localhost:8080/"
        },
        "id": "H6JD8_U_nwCB",
        "outputId": "ee9b40cf-c743-42ab-cfab-e70fece0c594"
      },
      "outputs": [
        {
          "data": {
            "text/plain": [
              "tensor([0, 0, 0, 0, 0, 0, 0, 0, 0, 0])"
            ]
          },
          "execution_count": 140,
          "metadata": {},
          "output_type": "execute_result"
        }
      ],
      "source": [
        "ten_zeros = torch.zeros_like(input=one_to_ten)\n",
        "ten_zeros"
      ]
    },
    {
      "cell_type": "markdown",
      "metadata": {
        "id": "wFE3X3qvoI-7"
      },
      "source": [
        "#tensor datatype"
      ]
    },
    {
      "cell_type": "code",
      "execution_count": null,
      "metadata": {
        "colab": {
          "base_uri": "https://localhost:8080/"
        },
        "id": "f_u9QWyd05uZ",
        "outputId": "2a92b14f-17b1-4394-9a7e-a326b352d415"
      },
      "outputs": [
        {
          "data": {
            "text/plain": [
              "tensor([3., 6., 9.])"
            ]
          },
          "execution_count": 141,
          "metadata": {},
          "output_type": "execute_result"
        }
      ],
      "source": [
        "float_32_tensor = torch.tensor([3.0, 6.0, 9.0], dtype = None,\n",
        "                               device=None,\n",
        "                               requires_grad=False)\n",
        "float_32_tensor\n"
      ]
    },
    {
      "cell_type": "code",
      "execution_count": null,
      "metadata": {
        "colab": {
          "base_uri": "https://localhost:8080/"
        },
        "id": "mYBUdoKC1EHE",
        "outputId": "201acf7c-1839-4153-ff90-900faee80f64"
      },
      "outputs": [
        {
          "data": {
            "text/plain": [
              "torch.float32"
            ]
          },
          "execution_count": 142,
          "metadata": {},
          "output_type": "execute_result"
        }
      ],
      "source": [
        "float_32_tensor.dtype"
      ]
    },
    {
      "cell_type": "code",
      "execution_count": null,
      "metadata": {
        "id": "yHoULPvH1IjL"
      },
      "outputs": [],
      "source": [
        "float_16_tensor = float_32_tensor.type(torch.half)"
      ]
    },
    {
      "cell_type": "code",
      "execution_count": null,
      "metadata": {
        "colab": {
          "base_uri": "https://localhost:8080/"
        },
        "id": "yATNaxRQ34lj",
        "outputId": "d04667d1-f889-4c4a-c191-ae7e0a02be16"
      },
      "outputs": [
        {
          "data": {
            "text/plain": [
              "tensor([3., 6., 9.], dtype=torch.float16)"
            ]
          },
          "execution_count": 144,
          "metadata": {},
          "output_type": "execute_result"
        }
      ],
      "source": [
        "float_16_tensor"
      ]
    },
    {
      "cell_type": "code",
      "execution_count": null,
      "metadata": {
        "colab": {
          "base_uri": "https://localhost:8080/"
        },
        "id": "9MKg8qVy36x6",
        "outputId": "e50cb128-d0e1-46df-d124-8af2c2bbc6d3"
      },
      "outputs": [
        {
          "data": {
            "text/plain": [
              "torch.float32"
            ]
          },
          "execution_count": 145,
          "metadata": {},
          "output_type": "execute_result"
        }
      ],
      "source": [
        "mul = float_16_tensor * float_32_tensor\n",
        "mul.dtype"
      ]
    },
    {
      "cell_type": "markdown",
      "metadata": {
        "id": "Nr7dVYw88Mos"
      },
      "source": [
        "1. Tensor datatype - tensor.dtype\n",
        "2. Tensor shape - tensor.shape\n",
        "3. Tensor device - tensor.device"
      ]
    },
    {
      "cell_type": "code",
      "execution_count": null,
      "metadata": {
        "colab": {
          "base_uri": "https://localhost:8080/"
        },
        "id": "1gvoanhV8Q85",
        "outputId": "3370f000-ed92-43c0-f7a5-4e64a15c9da1"
      },
      "outputs": [
        {
          "data": {
            "text/plain": [
              "tensor([[0.2373, 0.8586, 0.2710, 0.5337],\n",
              "        [0.8274, 0.5944, 0.8629, 0.2413],\n",
              "        [0.3116, 0.1292, 0.8234, 0.0229]])"
            ]
          },
          "execution_count": 146,
          "metadata": {},
          "output_type": "execute_result"
        }
      ],
      "source": [
        "some_tensor = torch.rand(3,4)\n",
        "some_tensor"
      ]
    },
    {
      "cell_type": "code",
      "execution_count": null,
      "metadata": {
        "colab": {
          "base_uri": "https://localhost:8080/"
        },
        "id": "SNhEPeyB-KDP",
        "outputId": "a02bbdfa-4c8b-420f-8210-8d63a488639f"
      },
      "outputs": [
        {
          "name": "stdout",
          "output_type": "stream",
          "text": [
            "tensor([[0.2373, 0.8586, 0.2710, 0.5337],\n",
            "        [0.8274, 0.5944, 0.8629, 0.2413],\n",
            "        [0.3116, 0.1292, 0.8234, 0.0229]])\n",
            " Datatype  :torch.float32\n",
            " Shape  :torch.Size([3, 4])\n",
            " Device: cpu\n"
          ]
        }
      ],
      "source": [
        "print(some_tensor)\n",
        "print(f\" Datatype  :{some_tensor.dtype}\")\n",
        "print(f\" Shape  :{some_tensor.shape}\")\n",
        "print(f\" Device: {some_tensor.device}\")\n"
      ]
    },
    {
      "cell_type": "code",
      "execution_count": null,
      "metadata": {
        "colab": {
          "base_uri": "https://localhost:8080/"
        },
        "id": "jHSABO7S-id1",
        "outputId": "a91ccca2-46c4-464d-b05a-17df8f8bbfce"
      },
      "outputs": [
        {
          "data": {
            "text/plain": [
              "tensor([[0.4973, 0.4988, 0.8716],\n",
              "        [0.5381, 0.9873, 0.0189]], dtype=torch.float16)"
            ]
          },
          "execution_count": 148,
          "metadata": {},
          "output_type": "execute_result"
        }
      ],
      "source": [
        "some_tensor2 = torch.rand(2,3)\n",
        "some_tensor2 =some_tensor2.type(torch.half)\n",
        "some_tensor2"
      ]
    },
    {
      "cell_type": "code",
      "execution_count": null,
      "metadata": {
        "colab": {
          "base_uri": "https://localhost:8080/"
        },
        "id": "RcWk4iid_DYF",
        "outputId": "7c1856fb-406c-48ac-e467-3ec2767a9362"
      },
      "outputs": [
        {
          "name": "stdout",
          "output_type": "stream",
          "text": [
            "tensor([[0.4973, 0.4988, 0.8716],\n",
            "        [0.5381, 0.9873, 0.0189]], dtype=torch.float16)\n",
            "datatype : torch.float16\n",
            "Size : torch.Size([2, 3])\n",
            "Device : cpu\n"
          ]
        }
      ],
      "source": [
        "print(some_tensor2)\n",
        "print(f\"datatype : {some_tensor2.dtype}\")\n",
        "print(f\"Size : {some_tensor2.shape}\")\n",
        "print(f\"Device : {some_tensor2.device}\")"
      ]
    },
    {
      "cell_type": "code",
      "execution_count": null,
      "metadata": {
        "id": "kTCjDAge_SID"
      },
      "outputs": [],
      "source": [
        "tensor_demo = torch.tensor([1,2,4])"
      ]
    },
    {
      "cell_type": "code",
      "execution_count": null,
      "metadata": {
        "colab": {
          "base_uri": "https://localhost:8080/"
        },
        "id": "Yr39K-0IAamQ",
        "outputId": "846d055a-4d10-4980-a19f-539b7b07acbb"
      },
      "outputs": [
        {
          "data": {
            "text/plain": [
              "tensor([10, 20, 40])"
            ]
          },
          "execution_count": 151,
          "metadata": {},
          "output_type": "execute_result"
        }
      ],
      "source": [
        "torch.mul(tensor_demo,10)"
      ]
    },
    {
      "cell_type": "code",
      "execution_count": null,
      "metadata": {
        "colab": {
          "base_uri": "https://localhost:8080/"
        },
        "id": "1k1ddRz7AhXQ",
        "outputId": "cb4d0c25-241a-44d5-c1ba-fd28d173887b"
      },
      "outputs": [
        {
          "data": {
            "text/plain": [
              "tensor([3, 4, 6])"
            ]
          },
          "execution_count": 152,
          "metadata": {},
          "output_type": "execute_result"
        }
      ],
      "source": [
        "torch.add(tensor_demo, 2)"
      ]
    },
    {
      "cell_type": "markdown",
      "metadata": {
        "id": "yMEqkyG2AsMU"
      },
      "source": [
        "# MATRIX MULTIPLICATION"
      ]
    },
    {
      "cell_type": "code",
      "execution_count": null,
      "metadata": {
        "colab": {
          "base_uri": "https://localhost:8080/"
        },
        "id": "Ob7DN-Lp2SB4",
        "outputId": "5055f630-a0d1-4fb2-9d4d-8df015c526a0"
      },
      "outputs": [
        {
          "name": "stdout",
          "output_type": "stream",
          "text": [
            "tensor([1, 2, 3])\n",
            "Equals:  tensor([1, 4, 9])\n"
          ]
        }
      ],
      "source": [
        "#ELEMENT WISE MULTIPLY\n",
        "tensor = torch.tensor([1,2,3])#,\n",
        "                        #[3,4,5],\n",
        "                        #[2,5,6]]])\n",
        "print(tensor)\n",
        "print(f\"Equals:  {tensor * tensor}\")"
      ]
    },
    {
      "cell_type": "code",
      "execution_count": null,
      "metadata": {
        "colab": {
          "base_uri": "https://localhost:8080/"
        },
        "id": "Ay-S2mHu3N6D",
        "outputId": "d8a64400-e481-4d1c-bd88-361a7be5b9f9"
      },
      "outputs": [
        {
          "data": {
            "text/plain": [
              "tensor(14)"
            ]
          },
          "execution_count": 154,
          "metadata": {},
          "output_type": "execute_result"
        }
      ],
      "source": [
        "torch.matmul(tensor, tensor)"
      ]
    },
    {
      "cell_type": "code",
      "execution_count": null,
      "metadata": {
        "id": "xESNKfNJ30DM"
      },
      "outputs": [],
      "source": [
        "tensor_A = torch.tensor([[1,2],\n",
        "                         [3,4],\n",
        "                         [5,6]])\n",
        "\n",
        "tensor_B = torch.tensor([[7,10],\n",
        "                         [8,11],\n",
        "                         [9,12]])"
      ]
    },
    {
      "cell_type": "code",
      "execution_count": null,
      "metadata": {
        "colab": {
          "base_uri": "https://localhost:8080/",
          "height": 191
        },
        "id": "SvbUSGEoEqK1",
        "outputId": "a01e2907-9ab7-4d54-fe40-606772e04c97"
      },
      "outputs": [
        {
          "ename": "RuntimeError",
          "evalue": "ignored",
          "output_type": "error",
          "traceback": [
            "\u001b[0;31m---------------------------------------------------------------------------\u001b[0m",
            "\u001b[0;31mRuntimeError\u001b[0m                              Traceback (most recent call last)",
            "\u001b[0;32m<ipython-input-156-8115bf9ea18f>\u001b[0m in \u001b[0;36m<cell line: 1>\u001b[0;34m()\u001b[0m\n\u001b[0;32m----> 1\u001b[0;31m \u001b[0mtorch\u001b[0m\u001b[0;34m.\u001b[0m\u001b[0mmatmul\u001b[0m\u001b[0;34m(\u001b[0m\u001b[0mtensor_A\u001b[0m\u001b[0;34m,\u001b[0m \u001b[0mtensor_B\u001b[0m\u001b[0;34m)\u001b[0m\u001b[0;34m\u001b[0m\u001b[0;34m\u001b[0m\u001b[0m\n\u001b[0m\u001b[1;32m      2\u001b[0m \u001b[0;31m#above code wont work because of size issue. fix by below code\u001b[0m\u001b[0;34m\u001b[0m\u001b[0;34m\u001b[0m\u001b[0m\n",
            "\u001b[0;31mRuntimeError\u001b[0m: mat1 and mat2 shapes cannot be multiplied (3x2 and 3x2)"
          ]
        }
      ],
      "source": [
        "torch.matmul(tensor_A, tensor_B)\n",
        "#above code wont work because of size issue. fix by below code"
      ]
    },
    {
      "cell_type": "code",
      "execution_count": null,
      "metadata": {
        "colab": {
          "base_uri": "https://localhost:8080/"
        },
        "id": "6IsCUbubE5UM",
        "outputId": "195a5ee4-dd9b-4f2c-c0e6-64730e001cef"
      },
      "outputs": [
        {
          "data": {
            "text/plain": [
              "tensor([[ 7,  8,  9],\n",
              "        [10, 11, 12]])"
            ]
          },
          "execution_count": 157,
          "metadata": {},
          "output_type": "execute_result"
        }
      ],
      "source": [
        "tensor_B.T"
      ]
    },
    {
      "cell_type": "code",
      "execution_count": null,
      "metadata": {
        "colab": {
          "base_uri": "https://localhost:8080/"
        },
        "id": "tjLDMtupFGn-",
        "outputId": "53f2dd14-7cab-4842-cf78-baa3bb744ee4"
      },
      "outputs": [
        {
          "data": {
            "text/plain": [
              "tensor([[ 7, 10],\n",
              "        [ 8, 11],\n",
              "        [ 9, 12]])"
            ]
          },
          "execution_count": 158,
          "metadata": {},
          "output_type": "execute_result"
        }
      ],
      "source": [
        "tensor_B"
      ]
    },
    {
      "cell_type": "code",
      "execution_count": null,
      "metadata": {
        "colab": {
          "base_uri": "https://localhost:8080/"
        },
        "id": "sNz-3mj8FI5N",
        "outputId": "31fc27f2-6991-463f-fa59-ec638e440086"
      },
      "outputs": [
        {
          "data": {
            "text/plain": [
              "tensor([[ 27,  30,  33],\n",
              "        [ 61,  68,  75],\n",
              "        [ 95, 106, 117]])"
            ]
          },
          "execution_count": 159,
          "metadata": {},
          "output_type": "execute_result"
        }
      ],
      "source": [
        "#matrix mul work when tensor_B is transposed\n",
        "torch.matmul(tensor_A, tensor_B.T)"
      ]
    },
    {
      "cell_type": "code",
      "execution_count": null,
      "metadata": {
        "colab": {
          "base_uri": "https://localhost:8080/"
        },
        "id": "SN0HA55pFMge",
        "outputId": "fb1a1b81-2c6d-42fb-ac46-fcdaab0b4d1e"
      },
      "outputs": [
        {
          "data": {
            "text/plain": [
              "(torch.Size([3, 2]), torch.Size([2, 3]))"
            ]
          },
          "execution_count": 160,
          "metadata": {},
          "output_type": "execute_result"
        }
      ],
      "source": [
        "tensor_B.shape, tensor_B.T.shape"
      ]
    },
    {
      "cell_type": "code",
      "execution_count": null,
      "metadata": {
        "colab": {
          "base_uri": "https://localhost:8080/"
        },
        "id": "yynLfWfQFWKk",
        "outputId": "ddd0d47e-6a01-49f3-ee64-86214d9de57e"
      },
      "outputs": [
        {
          "data": {
            "text/plain": [
              "tensor([ 0, 10, 20, 30, 40, 50, 60, 70, 80, 90])"
            ]
          },
          "execution_count": 161,
          "metadata": {},
          "output_type": "execute_result"
        }
      ],
      "source": [
        "#Tensor Aggregation - min, max, mean, sum etc\n",
        "x= torch.arange(0, 100, 10)\n",
        "x\n"
      ]
    },
    {
      "cell_type": "code",
      "execution_count": null,
      "metadata": {
        "colab": {
          "base_uri": "https://localhost:8080/"
        },
        "id": "fUeNCpnGGPl-",
        "outputId": "32ef058d-6e12-45c8-f1de-700e75b99251"
      },
      "outputs": [
        {
          "data": {
            "text/plain": [
              "(tensor(0), tensor(0))"
            ]
          },
          "execution_count": 162,
          "metadata": {},
          "output_type": "execute_result"
        }
      ],
      "source": [
        "torch.min(x) ,x.min()"
      ]
    },
    {
      "cell_type": "code",
      "execution_count": null,
      "metadata": {
        "colab": {
          "base_uri": "https://localhost:8080/"
        },
        "id": "V-wrp2EaGSza",
        "outputId": "57d1b022-a121-4e8f-d6f3-685799c3caf9"
      },
      "outputs": [
        {
          "data": {
            "text/plain": [
              "(tensor(90), tensor(90))"
            ]
          },
          "execution_count": 163,
          "metadata": {},
          "output_type": "execute_result"
        }
      ],
      "source": [
        "torch.max(x), x.max()"
      ]
    },
    {
      "cell_type": "code",
      "execution_count": null,
      "metadata": {
        "colab": {
          "base_uri": "https://localhost:8080/",
          "height": 225
        },
        "id": "St90Mol8GZJQ",
        "outputId": "8a13d4b3-aecc-442b-c22a-01b1ed475232"
      },
      "outputs": [
        {
          "ename": "RuntimeError",
          "evalue": "ignored",
          "output_type": "error",
          "traceback": [
            "\u001b[0;31m---------------------------------------------------------------------------\u001b[0m",
            "\u001b[0;31mRuntimeError\u001b[0m                              Traceback (most recent call last)",
            "\u001b[0;32m<ipython-input-164-165982cb9f44>\u001b[0m in \u001b[0;36m<cell line: 2>\u001b[0;34m()\u001b[0m\n\u001b[1;32m      1\u001b[0m \u001b[0mx\u001b[0m\u001b[0;34m.\u001b[0m\u001b[0mdtype\u001b[0m\u001b[0;34m\u001b[0m\u001b[0;34m\u001b[0m\u001b[0m\n\u001b[0;32m----> 2\u001b[0;31m \u001b[0mx\u001b[0m\u001b[0;34m.\u001b[0m\u001b[0mmean\u001b[0m\u001b[0;34m(\u001b[0m\u001b[0;34m)\u001b[0m\u001b[0;34m,\u001b[0m \u001b[0mtorch\u001b[0m\u001b[0;34m.\u001b[0m\u001b[0mmean\u001b[0m\u001b[0;34m(\u001b[0m\u001b[0mx\u001b[0m\u001b[0;34m)\u001b[0m\u001b[0;34m\u001b[0m\u001b[0;34m\u001b[0m\u001b[0m\n\u001b[0m\u001b[1;32m      3\u001b[0m \u001b[0;31m#the error saying for mean we need floating point or complex dtype.\u001b[0m\u001b[0;34m\u001b[0m\u001b[0;34m\u001b[0m\u001b[0m\n",
            "\u001b[0;31mRuntimeError\u001b[0m: mean(): could not infer output dtype. Input dtype must be either a floating point or complex dtype. Got: Long"
          ]
        }
      ],
      "source": [
        "x.dtype\n",
        "x.mean(), torch.mean(x)\n",
        "#the error saying we need floating point or complex dtype."
      ]
    },
    {
      "cell_type": "code",
      "execution_count": null,
      "metadata": {
        "colab": {
          "base_uri": "https://localhost:8080/"
        },
        "id": "qz71ACxgGcI8",
        "outputId": "1ce8c8c2-e040-4da9-fc7e-d1af4541e7ea"
      },
      "outputs": [
        {
          "data": {
            "text/plain": [
              "(tensor(45.), tensor(45.))"
            ]
          },
          "execution_count": 165,
          "metadata": {},
          "output_type": "execute_result"
        }
      ],
      "source": [
        "#converting to float32\n",
        "torch.mean(x.type(torch.float32)), x.type(torch.float32).mean()"
      ]
    },
    {
      "cell_type": "code",
      "execution_count": null,
      "metadata": {
        "colab": {
          "base_uri": "https://localhost:8080/"
        },
        "id": "i_WeY1tzHQK1",
        "outputId": "e346a175-bad8-4791-e284-7eb06df93961"
      },
      "outputs": [
        {
          "data": {
            "text/plain": [
              "tensor(0)"
            ]
          },
          "execution_count": 166,
          "metadata": {},
          "output_type": "execute_result"
        }
      ],
      "source": [
        "torch.argmin(x)"
      ]
    },
    {
      "cell_type": "code",
      "execution_count": null,
      "metadata": {
        "colab": {
          "base_uri": "https://localhost:8080/"
        },
        "id": "z80-IYjXIAJk",
        "outputId": "5de815a7-bf78-4ba0-c65a-47592f1f9b15"
      },
      "outputs": [
        {
          "data": {
            "text/plain": [
              "tensor(9)"
            ]
          },
          "execution_count": 167,
          "metadata": {},
          "output_type": "execute_result"
        }
      ],
      "source": [
        "torch.argmax(x)"
      ]
    },
    {
      "cell_type": "code",
      "execution_count": null,
      "metadata": {
        "colab": {
          "base_uri": "https://localhost:8080/"
        },
        "id": "F7XJ6ye_ICj4",
        "outputId": "7c7552c7-e0ed-43d3-d615-90f051534f69"
      },
      "outputs": [
        {
          "data": {
            "text/plain": [
              "tensor([ 0, 10, 20, 30, 40, 50, 60, 70, 80, 90])"
            ]
          },
          "execution_count": 168,
          "metadata": {},
          "output_type": "execute_result"
        }
      ],
      "source": [
        "x"
      ]
    },
    {
      "cell_type": "markdown",
      "metadata": {
        "id": "dLOm13gyIbVV"
      },
      "source": [
        "##reshaping, staking, squeezing and unsqueezing tensors\n",
        "# reshape - reshape to define shape\n",
        "#view - reurn view of the input tensor\n",
        "#stacking - combine multiple tensors - vstack, hstack\n",
        "#squeeze - remove 1 demension to a target tensor\n",
        "#unsqueeze - add 1 dimention\n",
        "#permute - return a view - dimensions permuted( swapped) in a certain way\n"
      ]
    },
    {
      "cell_type": "code",
      "execution_count": null,
      "metadata": {
        "colab": {
          "base_uri": "https://localhost:8080/"
        },
        "id": "p1wpyu4-N_HY",
        "outputId": "4671dda9-0ed9-4ced-deb3-5adece91feba"
      },
      "outputs": [
        {
          "data": {
            "text/plain": [
              "(tensor([1., 2., 3., 4., 5., 6., 7., 8., 9.]), torch.Size([9]))"
            ]
          },
          "execution_count": 172,
          "metadata": {},
          "output_type": "execute_result"
        }
      ],
      "source": [
        "import torch\n",
        "x = torch.arange(1.,10.)\n",
        "x, x.shape"
      ]
    },
    {
      "cell_type": "code",
      "execution_count": null,
      "metadata": {
        "colab": {
          "base_uri": "https://localhost:8080/"
        },
        "id": "lBYoG7d_OAg4",
        "outputId": "5643970d-bab7-4c19-99b0-81f308750a38"
      },
      "outputs": [
        {
          "data": {
            "text/plain": [
              "tensor([[1.],\n",
              "        [2.],\n",
              "        [3.],\n",
              "        [4.],\n",
              "        [5.],\n",
              "        [6.],\n",
              "        [7.],\n",
              "        [8.],\n",
              "        [9.]])"
            ]
          },
          "execution_count": 178,
          "metadata": {},
          "output_type": "execute_result"
        }
      ],
      "source": [
        "x_reshaped = x.reshape(9, 1)\n",
        "x_reshaped"
      ]
    },
    {
      "cell_type": "code",
      "execution_count": null,
      "metadata": {
        "colab": {
          "base_uri": "https://localhost:8080/"
        },
        "id": "NEJYtURtOc5S",
        "outputId": "4a058c3e-6328-43a3-aa4d-c1153925c5b8"
      },
      "outputs": [
        {
          "data": {
            "text/plain": [
              "tensor([[1., 2., 3., 4., 5., 6., 7., 8., 9.]])"
            ]
          },
          "execution_count": 180,
          "metadata": {},
          "output_type": "execute_result"
        }
      ],
      "source": [
        "y_reshaped = x.reshape(1, 9)\n",
        "y_reshaped"
      ]
    },
    {
      "cell_type": "code",
      "execution_count": null,
      "metadata": {
        "colab": {
          "base_uri": "https://localhost:8080/"
        },
        "id": "kiM1XenlPGwF",
        "outputId": "078f3198-6e04-4e37-f037-7a0350163793"
      },
      "outputs": [
        {
          "data": {
            "text/plain": [
              "tensor([[5., 2., 3., 4., 5., 6., 7., 8., 9.]])"
            ]
          },
          "execution_count": 185,
          "metadata": {},
          "output_type": "execute_result"
        }
      ],
      "source": [
        "#change the view\n",
        "z = x.view(1, 9)\n",
        "z"
      ]
    },
    {
      "cell_type": "code",
      "execution_count": null,
      "metadata": {
        "colab": {
          "base_uri": "https://localhost:8080/"
        },
        "id": "CR31a_EKPlIM",
        "outputId": "160a4fe8-02c2-42dc-b79d-f6310b19b0ed"
      },
      "outputs": [
        {
          "data": {
            "text/plain": [
              "(tensor([[5., 5., 5., 5., 5., 5., 5., 5., 5.]]),\n",
              " tensor([5., 5., 5., 5., 5., 5., 5., 5., 5.]))"
            ]
          },
          "execution_count": 186,
          "metadata": {},
          "output_type": "execute_result"
        }
      ],
      "source": [
        "z[0] = 5\n",
        "z,x"
      ]
    },
    {
      "cell_type": "code",
      "execution_count": null,
      "metadata": {
        "colab": {
          "base_uri": "https://localhost:8080/"
        },
        "id": "wJVyGiwmPzbD",
        "outputId": "e16ff90a-e69f-455a-9373-953dec827b2f"
      },
      "outputs": [
        {
          "data": {
            "text/plain": [
              "tensor([[5., 5., 5., 5.],\n",
              "        [5., 5., 5., 5.],\n",
              "        [5., 5., 5., 5.],\n",
              "        [5., 5., 5., 5.],\n",
              "        [5., 5., 5., 5.],\n",
              "        [5., 5., 5., 5.],\n",
              "        [5., 5., 5., 5.],\n",
              "        [5., 5., 5., 5.],\n",
              "        [5., 5., 5., 5.]])"
            ]
          },
          "execution_count": 193,
          "metadata": {},
          "output_type": "execute_result"
        }
      ],
      "source": [
        "#stack tensors on top of each other\n",
        "x_stacked = torch.stack([x,x,x,x], dim=1)\n",
        "x_stacked"
      ]
    },
    {
      "cell_type": "code",
      "execution_count": null,
      "metadata": {
        "colab": {
          "base_uri": "https://localhost:8080/"
        },
        "id": "LNRqq8CPY1vx",
        "outputId": "7b982918-afec-4953-c92e-da55b6947fdf"
      },
      "outputs": [
        {
          "data": {
            "text/plain": [
              "torch.Size([9, 1])"
            ]
          },
          "execution_count": 202,
          "metadata": {},
          "output_type": "execute_result"
        }
      ],
      "source": [
        " x_reshaped.shape"
      ]
    },
    {
      "cell_type": "code",
      "execution_count": null,
      "metadata": {
        "id": "H2bE5XLpaATT"
      },
      "outputs": [],
      "source": [
        " x_squeezed = x_reshaped.squeeze()#.shape"
      ]
    },
    {
      "cell_type": "code",
      "execution_count": null,
      "metadata": {
        "colab": {
          "base_uri": "https://localhost:8080/"
        },
        "id": "JqS7k29MaRZn",
        "outputId": "35fb0443-bf83-475e-c91a-4a0bcc5d081f"
      },
      "outputs": [
        {
          "name": "stdout",
          "output_type": "stream",
          "text": [
            "Previous target:tensor([5., 5., 5., 5., 5., 5., 5., 5., 5.])\n",
            "Previous target:torch.Size([9])\n"
          ]
        }
      ],
      "source": [
        "#unsqueeze() - torch - adds single dimention\n",
        "\n",
        "print(f\"Previous target:{x_squeezed}\")\n",
        "print(f\"Previous target:{x_squeezed.shape}\")"
      ]
    },
    {
      "cell_type": "code",
      "execution_count": null,
      "metadata": {
        "colab": {
          "base_uri": "https://localhost:8080/"
        },
        "id": "6k3tCwoVbYui",
        "outputId": "ea8915c3-fe5e-437c-9281-ba515e93d8ed"
      },
      "outputs": [
        {
          "name": "stdout",
          "output_type": "stream",
          "text": [
            "\n",
            " new tensor : tensor([[5., 5., 5., 5., 5., 5., 5., 5., 5.]])\n"
          ]
        }
      ],
      "source": [
        "x_unsqueezed = x_squeezed.unsqueeze(dim=0)\n",
        "print(f\"\\n new tensor : {x_unsqueezed}\")"
      ]
    },
    {
      "cell_type": "code",
      "execution_count": null,
      "metadata": {
        "colab": {
          "base_uri": "https://localhost:8080/"
        },
        "id": "2ZH4-K-4b6y4",
        "outputId": "8f01e21e-e6ff-454a-977d-fd1ee73ed6e9"
      },
      "outputs": [
        {
          "name": "stdout",
          "output_type": "stream",
          "text": [
            " Previous shape: torch.Size([224, 224, 3])\n",
            " Previous shape: torch.Size([3, 224, 224])\n"
          ]
        }
      ],
      "source": [
        "#permute - change the position\n",
        "x_original = torch.rand(size=(224,224,3))\n",
        "\n",
        "# permute the original tensor\n",
        "x_permuted = x_original.permute(2,0,1)\n",
        "print(f\" Previous shape: {x_original.shape}\")\n",
        "print(f\" Previous shape: {x_permuted.shape}\")\n",
        "\n",
        "#x_permuted"
      ]
    },
    {
      "cell_type": "code",
      "execution_count": null,
      "metadata": {
        "colab": {
          "base_uri": "https://localhost:8080/"
        },
        "id": "ywykTVa4cqoo",
        "outputId": "0fb416d8-858e-47cc-f105-0234c99eb63b"
      },
      "outputs": [
        {
          "data": {
            "text/plain": [
              "(tensor(0.8760), tensor(0.8760))"
            ]
          },
          "execution_count": 218,
          "metadata": {},
          "output_type": "execute_result"
        }
      ],
      "source": [
        "x_original[0,0,0]\n",
        "x_original[0,0,0] = .876\n",
        "x_original[0,0,0], x_permuted[0,0,0]"
      ]
    },
    {
      "cell_type": "code",
      "execution_count": null,
      "metadata": {
        "colab": {
          "base_uri": "https://localhost:8080/"
        },
        "id": "_mah3dhVdjEx",
        "outputId": "a89fea73-d82e-4c46-ed9e-540819b6adaa"
      },
      "outputs": [
        {
          "data": {
            "text/plain": [
              "(tensor([[[1, 2, 3],\n",
              "          [4, 5, 6],\n",
              "          [7, 8, 9]]]),\n",
              " torch.Size([1, 3, 3]))"
            ]
          },
          "execution_count": 228,
          "metadata": {},
          "output_type": "execute_result"
        }
      ],
      "source": [
        "#indexing(selecting data from the tensors)\n",
        "\n",
        "import torch\n",
        "x = torch.arange(1, 10).reshape(1,3,3)\n",
        "x, x.shape"
      ]
    },
    {
      "cell_type": "code",
      "execution_count": null,
      "metadata": {
        "colab": {
          "base_uri": "https://localhost:8080/"
        },
        "id": "DQ7ZiGXteBb4",
        "outputId": "11af89ad-cb61-4fcd-ef8f-4956b193916f"
      },
      "outputs": [
        {
          "data": {
            "text/plain": [
              "tensor([[1, 2, 3],\n",
              "        [4, 5, 6],\n",
              "        [7, 8, 9]])"
            ]
          },
          "execution_count": 229,
          "metadata": {},
          "output_type": "execute_result"
        }
      ],
      "source": [
        "x[0]"
      ]
    },
    {
      "cell_type": "code",
      "execution_count": null,
      "metadata": {
        "colab": {
          "base_uri": "https://localhost:8080/"
        },
        "id": "PkyWUEqLgFS_",
        "outputId": "478fefe3-827a-4e16-bc5d-5bf639b32d83"
      },
      "outputs": [
        {
          "data": {
            "text/plain": [
              "tensor([1, 2, 3])"
            ]
          },
          "execution_count": 230,
          "metadata": {},
          "output_type": "execute_result"
        }
      ],
      "source": [
        "x[0][0]"
      ]
    },
    {
      "cell_type": "code",
      "execution_count": null,
      "metadata": {
        "colab": {
          "base_uri": "https://localhost:8080/"
        },
        "id": "xelIPsvFgItI",
        "outputId": "8d1edbb7-ad91-4c16-ee2a-cb69f9b18a65"
      },
      "outputs": [
        {
          "data": {
            "text/plain": [
              "tensor([1, 2, 3])"
            ]
          },
          "execution_count": 232,
          "metadata": {},
          "output_type": "execute_result"
        }
      ],
      "source": [
        "x[0,0]"
      ]
    },
    {
      "cell_type": "code",
      "execution_count": null,
      "metadata": {
        "colab": {
          "base_uri": "https://localhost:8080/"
        },
        "id": "wrQfjBUkgKcY",
        "outputId": "94154027-7eec-4203-c656-468591bfbc1d"
      },
      "outputs": [
        {
          "data": {
            "text/plain": [
              "(tensor(9), tensor(9))"
            ]
          },
          "execution_count": 236,
          "metadata": {},
          "output_type": "execute_result"
        }
      ],
      "source": [
        "x[0,2,2], x[0][2][2]"
      ]
    },
    {
      "cell_type": "code",
      "execution_count": null,
      "metadata": {
        "colab": {
          "base_uri": "https://localhost:8080/"
        },
        "id": "YAotfrkbgOtb",
        "outputId": "726e66b4-aeb0-46f0-a467-093963918bb1"
      },
      "outputs": [
        {
          "data": {
            "text/plain": [
              "tensor([[2, 5, 8]])"
            ]
          },
          "execution_count": 240,
          "metadata": {},
          "output_type": "execute_result"
        }
      ],
      "source": [
        "x[:,:,1]"
      ]
    },
    {
      "cell_type": "code",
      "execution_count": null,
      "metadata": {
        "colab": {
          "base_uri": "https://localhost:8080/"
        },
        "id": "fQtQrMWxgzzx",
        "outputId": "709aae73-cfcc-4286-9c38-8e3e42d58ffc"
      },
      "outputs": [
        {
          "data": {
            "text/plain": [
              "tensor([1, 2, 3])"
            ]
          },
          "execution_count": 241,
          "metadata": {},
          "output_type": "execute_result"
        }
      ],
      "source": [
        "x[0,0,:]"
      ]
    },
    {
      "cell_type": "code",
      "execution_count": null,
      "metadata": {
        "colab": {
          "base_uri": "https://localhost:8080/"
        },
        "id": "c8xI494ChCU1",
        "outputId": "54d5236d-fbb9-4a59-9d0f-ea5301b10881"
      },
      "outputs": [
        {
          "data": {
            "text/plain": [
              "tensor([3, 6, 9])"
            ]
          },
          "execution_count": 244,
          "metadata": {},
          "output_type": "execute_result"
        }
      ],
      "source": [
        "x[0,:,2]"
      ]
    },
    {
      "cell_type": "code",
      "execution_count": null,
      "metadata": {
        "colab": {
          "base_uri": "https://localhost:8080/"
        },
        "id": "h1soDo_dhSya",
        "outputId": "e0adf2f3-69b5-4b29-f93b-403c31c0b89a"
      },
      "outputs": [
        {
          "data": {
            "text/plain": [
              "(array([1., 2., 3., 4., 5., 6., 7.]),\n",
              " tensor([1., 2., 3., 4., 5., 6., 7.], dtype=torch.float64))"
            ]
          },
          "execution_count": 2,
          "metadata": {},
          "output_type": "execute_result"
        }
      ],
      "source": [
        "#PyTorch tensor & NumPy\n",
        "import torch\n",
        "import numpy as np\n",
        "\n",
        "array = np.arange(1.0,8.0)\n",
        "tensor = torch.from_numpy(array) # warning convertion from float64 to float32\n",
        "array, tensor"
      ]
    },
    {
      "cell_type": "code",
      "execution_count": null,
      "metadata": {
        "colab": {
          "base_uri": "https://localhost:8080/"
        },
        "id": "60mire_wiLGb",
        "outputId": "3576ec5d-5468-48ae-d17a-3ab19f75c970"
      },
      "outputs": [
        {
          "data": {
            "text/plain": [
              "dtype('float64')"
            ]
          },
          "execution_count": 3,
          "metadata": {},
          "output_type": "execute_result"
        }
      ],
      "source": [
        "array.dtype # default dtype of numpy"
      ]
    },
    {
      "cell_type": "code",
      "execution_count": null,
      "metadata": {
        "colab": {
          "base_uri": "https://localhost:8080/"
        },
        "id": "cPdNtlqkiUMF",
        "outputId": "ad4e8cb1-bd43-4e38-e905-e3fe3abc2419"
      },
      "outputs": [
        {
          "data": {
            "text/plain": [
              "torch.float32"
            ]
          },
          "execution_count": 4,
          "metadata": {},
          "output_type": "execute_result"
        }
      ],
      "source": [
        "#what is the default datatype of pyTorch\n",
        "torch.arange(1.0,8.0).dtype"
      ]
    },
    {
      "cell_type": "code",
      "execution_count": null,
      "metadata": {
        "colab": {
          "base_uri": "https://localhost:8080/"
        },
        "id": "ujImy15_if4_",
        "outputId": "8666daf4-142e-4c29-f0f1-250ae0b62f24"
      },
      "outputs": [
        {
          "data": {
            "text/plain": [
              "(array([2., 3., 4., 5., 6., 7., 8.]),\n",
              " tensor([1., 2., 3., 4., 5., 6., 7.], dtype=torch.float64))"
            ]
          },
          "execution_count": 5,
          "metadata": {},
          "output_type": "execute_result"
        }
      ],
      "source": [
        "array = array + 1\n",
        "array, tensor"
      ]
    },
    {
      "cell_type": "code",
      "execution_count": null,
      "metadata": {
        "colab": {
          "base_uri": "https://localhost:8080/"
        },
        "id": "29TjkSCljF5d",
        "outputId": "ee7d4244-a9c7-4348-ad75-2fce91a09d24"
      },
      "outputs": [
        {
          "data": {
            "text/plain": [
              "(tensor([1., 1., 1., 1., 1., 1., 1.]),\n",
              " array([1., 1., 1., 1., 1., 1., 1.], dtype=float32))"
            ]
          },
          "execution_count": 6,
          "metadata": {},
          "output_type": "execute_result"
        }
      ],
      "source": [
        "#Go back to numpy\n",
        "tensor = torch.ones(7)\n",
        "numpy_tensor = tensor.numpy()\n",
        "tensor, numpy_tensor"
      ]
    },
    {
      "cell_type": "code",
      "execution_count": null,
      "metadata": {
        "colab": {
          "base_uri": "https://localhost:8080/"
        },
        "id": "dhjespYQjVMv",
        "outputId": "6f938676-17be-4c72-ed31-cd9c867506f2"
      },
      "outputs": [
        {
          "data": {
            "text/plain": [
              "dtype('float32')"
            ]
          },
          "execution_count": 7,
          "metadata": {},
          "output_type": "execute_result"
        }
      ],
      "source": [
        "numpy_tensor.dtype"
      ]
    },
    {
      "cell_type": "code",
      "execution_count": null,
      "metadata": {
        "colab": {
          "base_uri": "https://localhost:8080/"
        },
        "id": "xmZtT9R-jYP5",
        "outputId": "15f31046-8ad6-4250-9644-3505a1d241dd"
      },
      "outputs": [
        {
          "data": {
            "text/plain": [
              "(tensor([2., 2., 2., 2., 2., 2., 2.]),\n",
              " array([1., 1., 1., 1., 1., 1., 1.], dtype=float32))"
            ]
          },
          "execution_count": 8,
          "metadata": {},
          "output_type": "execute_result"
        }
      ],
      "source": [
        "tensor = tensor + 1\n",
        "tensor, numpy_tensor"
      ]
    },
    {
      "cell_type": "code",
      "execution_count": null,
      "metadata": {
        "colab": {
          "base_uri": "https://localhost:8080/"
        },
        "id": "0Kb_7Ej7kdIr",
        "outputId": "153894f1-2834-43ff-ddec-3857b1d9cdd9"
      },
      "outputs": [
        {
          "data": {
            "text/plain": [
              "tensor([[0.6612, 0.8016, 0.7487],\n",
              "        [0.1151, 0.5008, 0.2037],\n",
              "        [0.4595, 0.5306, 0.5857]])"
            ]
          },
          "execution_count": 11,
          "metadata": {},
          "output_type": "execute_result"
        }
      ],
      "source": [
        "## reproducability (trying to take random out of random)\n",
        "torch.rand(3,3)"
      ]
    },
    {
      "cell_type": "code",
      "execution_count": null,
      "metadata": {
        "id": "6okSiA29Bevz"
      },
      "outputs": [],
      "source": [
        "#to reduce the randomeness and pytorch comes the concept of\n",
        "##**RANDOM SEED**\n",
        "##WHAT IS DOES? flavor the randomness\n"
      ]
    },
    {
      "cell_type": "code",
      "execution_count": null,
      "metadata": {
        "colab": {
          "base_uri": "https://localhost:8080/"
        },
        "id": "GD2a7uMAB5Gn",
        "outputId": "ba129b41-e777-4a4d-b143-2ca9d74efc98"
      },
      "outputs": [
        {
          "name": "stdout",
          "output_type": "stream",
          "text": [
            "tensor([[0.7470, 0.6607, 0.9306, 0.2112],\n",
            "        [0.0157, 0.3256, 0.8752, 0.5498],\n",
            "        [0.3297, 0.1669, 0.7790, 0.7357]])\n",
            "tensor([[0.4844, 0.6785, 0.5447, 0.2911],\n",
            "        [0.8995, 0.1302, 0.8707, 0.8929],\n",
            "        [0.0877, 0.6421, 0.3855, 0.0891]])\n",
            "tensor([[False, False, False, False],\n",
            "        [False, False, False, False],\n",
            "        [False, False, False, False]])\n"
          ]
        }
      ],
      "source": [
        "import torch\n",
        "random_tensor_A = torch.rand(3,4)\n",
        "random_tensor_B = torch.rand(3,4)\n",
        "print(random_tensor_A)\n",
        "print(random_tensor_B)\n",
        "print(random_tensor_A == random_tensor_B)"
      ]
    },
    {
      "cell_type": "code",
      "execution_count": null,
      "metadata": {
        "colab": {
          "base_uri": "https://localhost:8080/"
        },
        "id": "oY9aQO9_CHOq",
        "outputId": "364c8c38-6758-40bb-d9b4-32d88e338dca"
      },
      "outputs": [
        {
          "name": "stdout",
          "output_type": "stream",
          "text": [
            "tensor([[0.8823, 0.9150, 0.3829, 0.9593],\n",
            "        [0.3904, 0.6009, 0.2566, 0.7936],\n",
            "        [0.9408, 0.1332, 0.9346, 0.5936]])\n",
            "tensor([[0.8823, 0.9150, 0.3829, 0.9593],\n",
            "        [0.3904, 0.6009, 0.2566, 0.7936],\n",
            "        [0.9408, 0.1332, 0.9346, 0.5936]])\n",
            "tensor([[True, True, True, True],\n",
            "        [True, True, True, True],\n",
            "        [True, True, True, True]])\n"
          ]
        }
      ],
      "source": [
        "import torch\n",
        "\n",
        "RANDOM_SEED = 42\n",
        "torch.manual_seed(RANDOM_SEED)\n",
        "\n",
        "random_tensor_c = torch.rand(3,4)\n",
        "torch.manual_seed(RANDOM_SEED)\n",
        "random_tensor_d = torch.rand(3,4)\n",
        "\n",
        "print(random_tensor_c)\n",
        "print(random_tensor_d)\n",
        "print(random_tensor_c == random_tensor_d)\n",
        "\n"
      ]
    },
    {
      "cell_type": "code",
      "execution_count": null,
      "metadata": {
        "colab": {
          "base_uri": "https://localhost:8080/"
        },
        "id": "sNC4Nz-kDCML",
        "outputId": "0857547a-55f9-420f-fd3d-0148d6f9fca0"
      },
      "outputs": [
        {
          "name": "stdout",
          "output_type": "stream",
          "text": [
            "Thu Oct 26 22:23:34 2023       \n",
            "+-----------------------------------------------------------------------------+\n",
            "| NVIDIA-SMI 525.105.17   Driver Version: 525.105.17   CUDA Version: 12.0     |\n",
            "|-------------------------------+----------------------+----------------------+\n",
            "| GPU  Name        Persistence-M| Bus-Id        Disp.A | Volatile Uncorr. ECC |\n",
            "| Fan  Temp  Perf  Pwr:Usage/Cap|         Memory-Usage | GPU-Util  Compute M. |\n",
            "|                               |                      |               MIG M. |\n",
            "|===============================+======================+======================|\n",
            "|   0  Tesla T4            Off  | 00000000:00:04.0 Off |                    0 |\n",
            "| N/A   36C    P8     9W /  70W |      0MiB / 15360MiB |      0%      Default |\n",
            "|                               |                      |                  N/A |\n",
            "+-------------------------------+----------------------+----------------------+\n",
            "                                                                               \n",
            "+-----------------------------------------------------------------------------+\n",
            "| Processes:                                                                  |\n",
            "|  GPU   GI   CI        PID   Type   Process name                  GPU Memory |\n",
            "|        ID   ID                                                   Usage      |\n",
            "|=============================================================================|\n",
            "|  No running processes found                                                 |\n",
            "+-----------------------------------------------------------------------------+\n"
          ]
        }
      ],
      "source": [
        "##RUNNING GPU\n",
        "## CUDA + NVIDIA + PYTORCH\n",
        "\n",
        "#change to GPU\n",
        "#CHECK NVIDIA - GPU\n",
        "\n",
        "!nvidia-smi"
      ]
    },
    {
      "cell_type": "code",
      "execution_count": null,
      "metadata": {
        "colab": {
          "base_uri": "https://localhost:8080/"
        },
        "id": "GFKIG322FfHL",
        "outputId": "8a31012a-1698-4427-85bd-6e8127826d4a"
      },
      "outputs": [
        {
          "data": {
            "text/plain": [
              "True"
            ]
          },
          "execution_count": 2,
          "metadata": {},
          "output_type": "execute_result"
        }
      ],
      "source": [
        "#CHECK FOR GPU ACCESS WITH PYTORCH\n",
        "import torch\n",
        "torch.cuda.is_available()"
      ]
    },
    {
      "cell_type": "code",
      "execution_count": null,
      "metadata": {
        "colab": {
          "base_uri": "https://localhost:8080/",
          "height": 37
        },
        "id": "VM8sh1e3F_hY",
        "outputId": "54cb422d-9aa0-42ff-bc01-8e6215044639"
      },
      "outputs": [
        {
          "data": {
            "application/vnd.google.colaboratory.intrinsic+json": {
              "type": "string"
            },
            "text/plain": [
              "'cuda'"
            ]
          },
          "execution_count": 3,
          "metadata": {},
          "output_type": "execute_result"
        }
      ],
      "source": [
        "#SET UP DEVICE AGNOSTIC CODE\n",
        "\n",
        "device = \"cuda\" if torch.cuda.is_available() else \"cpu\"\n",
        "device"
      ]
    },
    {
      "cell_type": "code",
      "execution_count": null,
      "metadata": {
        "colab": {
          "base_uri": "https://localhost:8080/"
        },
        "id": "LGnqMVP7GQLC",
        "outputId": "d847576c-8bd9-4efd-8adf-240e593ea258"
      },
      "outputs": [
        {
          "data": {
            "text/plain": [
              "1"
            ]
          },
          "execution_count": 4,
          "metadata": {},
          "output_type": "execute_result"
        }
      ],
      "source": [
        "#COUNT THE NUMBER OF GPU\n",
        "torch.cuda.device_count()"
      ]
    },
    {
      "cell_type": "code",
      "execution_count": null,
      "metadata": {
        "colab": {
          "base_uri": "https://localhost:8080/"
        },
        "id": "rZMneVetGY9Q",
        "outputId": "3809e22c-0153-4f5b-c66d-9be4fd2c0014"
      },
      "outputs": [
        {
          "name": "stdout",
          "output_type": "stream",
          "text": [
            "tensor([1, 2, 3]) cpu\n"
          ]
        }
      ],
      "source": [
        "#Put the tensors and model on GPU\n",
        "tensor = torch.tensor([1,2,3], device='cpu')\n",
        "print(tensor, tensor.device)"
      ]
    },
    {
      "cell_type": "code",
      "execution_count": null,
      "metadata": {
        "colab": {
          "base_uri": "https://localhost:8080/"
        },
        "id": "U0ovFUbWLpUx",
        "outputId": "12667224-1df4-445b-a9ed-7f4b2f7df907"
      },
      "outputs": [
        {
          "data": {
            "text/plain": [
              "tensor([1, 2, 3], device='cuda:0')"
            ]
          },
          "execution_count": 6,
          "metadata": {},
          "output_type": "execute_result"
        }
      ],
      "source": [
        "tensor_on_gpu = tensor.to(device)\n",
        "tensor_on_gpu"
      ]
    },
    {
      "cell_type": "code",
      "execution_count": null,
      "metadata": {
        "colab": {
          "base_uri": "https://localhost:8080/",
          "height": 208
        },
        "id": "H0yXYBdUL8cb",
        "outputId": "f02c081f-7419-459f-bd6e-7fb1511ea566"
      },
      "outputs": [
        {
          "ename": "TypeError",
          "evalue": "ignored",
          "output_type": "error",
          "traceback": [
            "\u001b[0;31m---------------------------------------------------------------------------\u001b[0m",
            "\u001b[0;31mTypeError\u001b[0m                                 Traceback (most recent call last)",
            "\u001b[0;32m<ipython-input-7-80dc2ee125c0>\u001b[0m in \u001b[0;36m<cell line: 2>\u001b[0;34m()\u001b[0m\n\u001b[1;32m      1\u001b[0m \u001b[0;31m#if tensor is on GPU, cant transforn it to numpy\u001b[0m\u001b[0;34m\u001b[0m\u001b[0;34m\u001b[0m\u001b[0m\n\u001b[0;32m----> 2\u001b[0;31m \u001b[0mtensor_on_gpu\u001b[0m\u001b[0;34m.\u001b[0m\u001b[0mnumpy\u001b[0m\u001b[0;34m(\u001b[0m\u001b[0;34m)\u001b[0m\u001b[0;34m\u001b[0m\u001b[0;34m\u001b[0m\u001b[0m\n\u001b[0m",
            "\u001b[0;31mTypeError\u001b[0m: can't convert cuda:0 device type tensor to numpy. Use Tensor.cpu() to copy the tensor to host memory first."
          ]
        }
      ],
      "source": [
        "#if tensor is on GPU, cant transforn it to numpy\n",
        "tensor_on_gpu.numpy()"
      ]
    },
    {
      "cell_type": "code",
      "execution_count": null,
      "metadata": {
        "colab": {
          "base_uri": "https://localhost:8080/"
        },
        "id": "jq7n38DLMe57",
        "outputId": "4dfe3497-21f5-4d15-9527-f703ee81de9c"
      },
      "outputs": [
        {
          "data": {
            "text/plain": [
              "array([1, 2, 3])"
            ]
          },
          "execution_count": 8,
          "metadata": {},
          "output_type": "execute_result"
        }
      ],
      "source": [
        "tensor_back_on_cpu = tensor_on_gpu.cpu().numpy()\n",
        "tensor_back_on_cpu"
      ]
    },
    {
      "cell_type": "code",
      "execution_count": null,
      "metadata": {
        "colab": {
          "base_uri": "https://localhost:8080/"
        },
        "id": "Ga_fvgE5M3pc",
        "outputId": "4fed2a2c-a559-4741-b932-0f25fdd27c28"
      },
      "outputs": [
        {
          "data": {
            "text/plain": [
              "tensor([1, 2, 3], device='cuda:0')"
            ]
          },
          "execution_count": 10,
          "metadata": {},
          "output_type": "execute_result"
        }
      ],
      "source": [
        "tensor_on_gpu"
      ]
    },
    {
      "cell_type": "code",
      "execution_count": 7,
      "metadata": {
        "colab": {
          "base_uri": "https://localhost:8080/"
        },
        "id": "i4ElDQtDNg8u",
        "outputId": "aa841dda-44f0-4569-e976-d5dce393e5e3"
      },
      "outputs": [
        {
          "data": {
            "text/plain": [
              "(tensor([[0.1021, 0.5808, 0.9256, 0.3897, 0.5381, 0.3720, 0.7379],\n",
              "         [0.9513, 0.1712, 0.3973, 0.3028, 0.6212, 0.7573, 0.9126],\n",
              "         [0.6351, 0.2177, 0.1249, 0.1087, 0.1404, 0.0609, 0.9393],\n",
              "         [0.9898, 0.1993, 0.1036, 0.9179, 0.6113, 0.5013, 0.4122],\n",
              "         [0.8928, 0.2857, 0.3795, 0.7015, 0.8075, 0.5787, 0.2198],\n",
              "         [0.8132, 0.4824, 0.0016, 0.8638, 0.7047, 0.1275, 0.3820],\n",
              "         [0.0020, 0.8962, 0.0988, 0.3145, 0.2911, 0.8009, 0.2400]]),\n",
              " torch.Size([7, 7]))"
            ]
          },
          "execution_count": 7,
          "metadata": {},
          "output_type": "execute_result"
        }
      ],
      "source": [
        "#Exercise\n",
        "import torch\n",
        "x = torch.rand(7,7)\n",
        "x, x.shape"
      ]
    },
    {
      "cell_type": "code",
      "execution_count": 8,
      "metadata": {
        "colab": {
          "base_uri": "https://localhost:8080/"
        },
        "id": "PM1O3gMSAK31",
        "outputId": "3ca465b9-6516-47c0-bc6b-2c040e24098c"
      },
      "outputs": [
        {
          "data": {
            "text/plain": [
              "(tensor([[0.0676, 0.3700, 0.8311, 0.6876, 0.9298, 0.6989, 0.9753]]),\n",
              " torch.Size([1, 7]))"
            ]
          },
          "execution_count": 8,
          "metadata": {},
          "output_type": "execute_result"
        }
      ],
      "source": [
        "y = torch.rand(1,7)\n",
        "y, y.shape"
      ]
    },
    {
      "cell_type": "code",
      "execution_count": 13,
      "metadata": {
        "colab": {
          "base_uri": "https://localhost:8080/"
        },
        "id": "iO_wmy-cAnr5",
        "outputId": "3c84841a-52f4-4fe4-9100-bab461335723"
      },
      "outputs": [
        {
          "data": {
            "text/plain": [
              "(tensor([[2.7390],\n",
              "         [2.6628],\n",
              "         [1.3911],\n",
              "         [2.1786],\n",
              "         [2.3334],\n",
              "         [1.9456],\n",
              "         [1.6946]]),\n",
              " torch.Size([7, 1]))"
            ]
          },
          "execution_count": 13,
          "metadata": {},
          "output_type": "execute_result"
        }
      ],
      "source": [
        "z = torch.matmul(x,y.T)\n",
        "z, z.shape"
      ]
    },
    {
      "cell_type": "code",
      "execution_count": 16,
      "metadata": {
        "colab": {
          "base_uri": "https://localhost:8080/"
        },
        "id": "FrDhB8-6AtZ8",
        "outputId": "9d1342ad-a38b-4354-ab77-49223ce4650f"
      },
      "outputs": [
        {
          "name": "stdout",
          "output_type": "stream",
          "text": [
            "tensor([[0.4963, 0.7682, 0.0885, 0.1320, 0.3074, 0.6341, 0.4901],\n",
            "        [0.8964, 0.4556, 0.6323, 0.3489, 0.4017, 0.0223, 0.1689],\n",
            "        [0.2939, 0.5185, 0.6977, 0.8000, 0.1610, 0.2823, 0.6816],\n",
            "        [0.9152, 0.3971, 0.8742, 0.4194, 0.5529, 0.9527, 0.0362],\n",
            "        [0.1852, 0.3734, 0.3051, 0.9320, 0.1759, 0.2698, 0.1507],\n",
            "        [0.0317, 0.2081, 0.9298, 0.7231, 0.7423, 0.5263, 0.2437],\n",
            "        [0.5846, 0.0332, 0.1387, 0.2422, 0.8155, 0.7932, 0.2783]])\n"
          ]
        },
        {
          "data": {
            "text/plain": [
              "tensor([[1.5985],\n",
              "        [1.1173],\n",
              "        [1.2741],\n",
              "        [1.6838],\n",
              "        [0.8279],\n",
              "        [1.0347],\n",
              "        [1.2498]])"
            ]
          },
          "execution_count": 16,
          "metadata": {},
          "output_type": "execute_result"
        }
      ],
      "source": [
        "RANDOM_SEED=0\n",
        "torch.manual_seed(RANDOM_SEED)\n",
        "x = torch.rand(7,7)\n",
        "print(x)\n",
        "torch.manual_seed(RANDOM_SEED)\n",
        "y = torch.rand(1,7)\n",
        "z = torch.matmul(x,y.T)\n",
        "z"
      ]
    },
    {
      "cell_type": "code",
      "execution_count": 17,
      "metadata": {
        "id": "FBHHb4qABj01"
      },
      "outputs": [],
      "source": [
        "torch.cuda.manual_seed(1234)"
      ]
    },
    {
      "cell_type": "code",
      "execution_count": 20,
      "metadata": {
        "colab": {
          "base_uri": "https://localhost:8080/"
        },
        "id": "a-UHsdugCgvX",
        "outputId": "83d41632-ef3f-4a61-a11a-d342e88ffba6"
      },
      "outputs": [
        {
          "name": "stdout",
          "output_type": "stream",
          "text": [
            " Device: cuda\n",
            " Tensor_A: tensor([[0.0290, 0.4019, 0.2598],\n",
            "        [0.3666, 0.0583, 0.7006]], device='cuda:0')\n",
            "Tensor_B: tensor([[0.0518, 0.4681, 0.6738],\n",
            "        [0.3315, 0.7837, 0.5631]], device='cuda:0')\n"
          ]
        }
      ],
      "source": [
        "torch.manual_seed(1234)\n",
        "\n",
        "device=\"cuda\" if torch.cuda.is_available() else \"cpu\"\n",
        "print(f\" Device: {device}\")\n",
        "\n",
        "tensor_A = torch.rand(size=(2,3)).to(device)\n",
        "tensor_B = torch.rand(size=(2,3)).to(device)\n",
        "print(f\" Tensor_A: {tensor_A}\")\n",
        "print(f\"Tensor_B: {tensor_B}\")"
      ]
    },
    {
      "cell_type": "code",
      "execution_count": 23,
      "metadata": {
        "colab": {
          "base_uri": "https://localhost:8080/"
        },
        "id": "BuvobUTUD1Lz",
        "outputId": "5a6a6ac5-0cb3-40ab-b8b1-1a49e9788fbf"
      },
      "outputs": [
        {
          "data": {
            "text/plain": [
              "(tensor([[0.3647, 0.4709],\n",
              "         [0.5184, 0.5617]], device='cuda:0'),\n",
              " torch.Size([2, 2]))"
            ]
          },
          "execution_count": 23,
          "metadata": {},
          "output_type": "execute_result"
        }
      ],
      "source": [
        "tensor_C = torch.matmul(tensor_A, tensor_B.T)\n",
        "tensor_C, tensor_C.shape"
      ]
    },
    {
      "cell_type": "code",
      "execution_count": 24,
      "metadata": {
        "colab": {
          "base_uri": "https://localhost:8080/"
        },
        "id": "_6GrxJfAEcwF",
        "outputId": "eb18ef63-d666-4112-f4b2-8190ed1c3a6b"
      },
      "outputs": [
        {
          "name": "stdout",
          "output_type": "stream",
          "text": [
            "Max : 0.5617256760597229\n",
            "Min : 0.3647301495075226\n"
          ]
        }
      ],
      "source": [
        "max = torch.max(tensor_C)\n",
        "min = torch.min(tensor_C)\n",
        "print(f\"Max : {max}\")\n",
        "print(f\"Min : {min}\")"
      ]
    },
    {
      "cell_type": "code",
      "execution_count": 28,
      "metadata": {
        "colab": {
          "base_uri": "https://localhost:8080/"
        },
        "id": "FY-gTaPDE5le",
        "outputId": "2c5da938-7994-4883-aa0a-04b3ac2d431b"
      },
      "outputs": [
        {
          "data": {
            "text/plain": [
              "(tensor(3, device='cuda:0'), tensor(0, device='cuda:0'))"
            ]
          },
          "execution_count": 28,
          "metadata": {},
          "output_type": "execute_result"
        }
      ],
      "source": [
        "arg_max= torch.argmax(tensor_C)\n",
        "\n",
        "arg_min = torch.argmin(tensor_C)\n",
        "arg_max, arg_min"
      ]
    },
    {
      "cell_type": "code",
      "execution_count": 31,
      "metadata": {
        "colab": {
          "base_uri": "https://localhost:8080/"
        },
        "id": "cfNj8EfmFx3A",
        "outputId": "c62530bf-dd1e-4383-8cc1-591c042e0886"
      },
      "outputs": [
        {
          "name": "stdout",
          "output_type": "stream",
          "text": [
            "tensor([[[[0.5349, 0.1988, 0.6592, 0.6569, 0.2328, 0.4251, 0.2071, 0.6297,\n",
            "           0.3653, 0.8513]]]]) torch.Size([1, 1, 1, 10])\n",
            "tensor([0.5349, 0.1988, 0.6592, 0.6569, 0.2328, 0.4251, 0.2071, 0.6297, 0.3653,\n",
            "        0.8513]) torch.Size([10])\n"
          ]
        }
      ],
      "source": [
        "torch.manual_seed(7)\n",
        "\n",
        "tensor_D = torch.rand(size=(1,1,1,10))\n",
        "\n",
        "tensor_E = tensor_D.squeeze()\n",
        "\n",
        "print(tensor_D, tensor_D.shape)\n",
        "print(tensor_E, tensor_E.shape)"
      ]
    },
    {
      "cell_type": "code",
      "execution_count": null,
      "metadata": {
        "id": "vZM34pqtJ7rB"
      },
      "outputs": [],
      "source": []
    }
  ],
  "metadata": {
    "accelerator": "GPU",
    "colab": {
      "gpuType": "T4",
      "provenance": []
    },
    "kernelspec": {
      "display_name": "Python 3",
      "name": "python3"
    },
    "language_info": {
      "name": "python"
    }
  },
  "nbformat": 4,
  "nbformat_minor": 0
}
